{
 "cells": [
  {
   "cell_type": "code",
   "execution_count": null,
   "metadata": {},
   "outputs": [],
   "source": [
    "from Data_manager.BookData.BookDataReader import BookDataReader\n",
    "\n",
    "dataset_object = BookDataReader()\n",
    "dataset = dataset_object.load_data()\n",
    "\n",
    "URM_all = dataset.get_URM_from_name(\"URM_all\")\n",
    "ICM_all = dataset.get_ICM_from_name(\"ICM_all\")"
   ]
  },
  {
   "cell_type": "code",
   "execution_count": null,
   "metadata": {},
   "outputs": [],
   "source": [
    "from Base.DataIO import DataIO\n",
    "from Base.Evaluation.Evaluator import EvaluatorHoldout\n",
    "from Data_manager.split_functions.split_train_validation_random_holdout import split_train_in_two_percentage_user_wise\n",
    "\n",
    "OUTPUT_path = \"Result_experiments/\"\n",
    "\n",
    "data_loader = DataIO(folder_path=OUTPUT_path)\n",
    "\n",
    "URM_train, URM_test = split_train_in_two_percentage_user_wise(URM_all, train_percentage=0.8)\n",
    "\n",
    "evaluator_test = EvaluatorHoldout(URM_test, cutoff_list=[10])"
   ]
  },
  {
   "cell_type": "code",
   "execution_count": null,
   "metadata": {},
   "outputs": [],
   "source": [
    "dict = {}\n",
    "graph_dict = {}"
   ]
  },
  {
   "cell_type": "code",
   "execution_count": null,
   "metadata": {},
   "outputs": [],
   "source": [
    "def load_recommender(recommender_class, URM, ICM=None, metadata_args=\"\"):\n",
    "    metadata_path = recommender_class.RECOMMENDER_NAME + metadata_args + \"_metadata.zip\"\n",
    "    metadata = data_loader.load_data(metadata_path)\n",
    "    best_parameters = metadata[\"hyperparameters_best\"]\n",
    "\n",
    "    if ICM is None:\n",
    "        recommender = recommender_class(URM)\n",
    "    else:\n",
    "        recommender = recommender_class(URM, ICM)\n",
    "\n",
    "    recommender.fit(**best_parameters)\n",
    "\n",
    "    return recommender\n",
    "\n",
    "def set_recommender(dict, recommender, key=None):\n",
    "    if key is None:\n",
    "        key = recommender.RECOMMENDER_NAME\n",
    "\n",
    "    dict[key] = {}\n",
    "    dict[key][\"model\"] = recommender"
   ]
  },
  {
   "cell_type": "code",
   "execution_count": null,
   "metadata": {},
   "outputs": [],
   "source": [
    "from Base.Recommender_utils import check_matrix\n",
    "from Base.BaseSimilarityMatrixRecommender import BaseItemSimilarityMatrixRecommender\n",
    "\n",
    "import numpy as np\n",
    "\n",
    "\n",
    "class CalibrationRecommender(BaseItemSimilarityMatrixRecommender):\n",
    "\n",
    "    RECOMMENDER_NAME = \"CalibrationRecommender\"\n",
    "\n",
    "    def __init__(self, URM_train, Recommender):\n",
    "        super(CalibrationRecommender, self).__init__(URM_train)\n",
    "\n",
    "        self.URM_train = check_matrix(URM_train.copy(), \"csr\")\n",
    "\n",
    "        self.Recommender = Recommender\n",
    "    \n",
    "    def fit(self):\n",
    "\n",
    "        item_weights = self.Recommender._compute_item_score(list(range(self.URM_train.shape[0])))\n",
    "\n",
    "        self.item_vmax_mean = []\n",
    "        for i in range(self.n_items):\n",
    "            item_scores = item_weights[:, i][item_weights[:, i] > 0]\n",
    "\n",
    "            if len(item_scores) == 0:\n",
    "                item_scores = [0]\n",
    "\n",
    "            self.item_vmax_mean.append({\"max\": np.max(item_scores), \"mean\": np.mean(item_scores)})\n",
    "\n",
    "    def _compute_item_score(self, user_id_array, items_to_compute=None):\n",
    "\n",
    "        item_weights = self.Recommender._compute_item_score(user_id_array, items_to_compute)\n",
    "\n",
    "        for index, user_id in enumerate(user_id_array):\n",
    "            user_scores = item_weights[index, :]\n",
    "\n",
    "            for i, score in enumerate(user_scores):\n",
    "                vmax = self.item_vmax_mean[i][\"max\"]\n",
    "                mean = self.item_vmax_mean[i][\"mean\"]\n",
    "                \n",
    "                if mean != 0:\n",
    "                    r = user_scores[i]\n",
    "                    user_scores[i] = ((r / mean) * 0.5) if r <= mean else (0.5 + (r - mean) / (vmax - mean) * 0.5) if r <= vmax else 1\n",
    "\n",
    "            item_weights[index, :] = user_scores\n",
    "\n",
    "        return item_weights\n"
   ]
  },
  {
   "source": [
    "### ItemKNNCFRecommender"
   ],
   "cell_type": "markdown",
   "metadata": {}
  },
  {
   "cell_type": "code",
   "execution_count": null,
   "metadata": {},
   "outputs": [],
   "source": [
    "from KNN.ItemKNNCFRecommender import ItemKNNCFRecommender\n",
    "\n",
    "recommender = load_recommender(ItemKNNCFRecommender, URM_train, metadata_args=\"_cosine\")\n",
    "\n",
    "set_recommender(dict, recommender)\n",
    "\n",
    "results, results_string = evaluator_test.evaluateRecommender(recommender)\n",
    "print(\"Algorithm: {}, results: \\n{}\".format(recommender.__class__, results_string))"
   ]
  },
  {
   "cell_type": "code",
   "execution_count": null,
   "metadata": {},
   "outputs": [],
   "source": [
    "from KNN.ItemKNNCFRecommender import ItemKNNCFRecommender\n",
    "\n",
    "recommender = ItemKNNCFRecommender(URM_train)\n",
    "recommender.fit(topK=337, shrink=722, similarity=\"asymmetric\", asymmetric_alpha=0.11770705488555902, feature_weighting=\"TF-IDF\")\n",
    "\n",
    "set_recommender(dict, recommender)\n",
    "\n",
    "results, results_string = evaluator_test.evaluateRecommender(recommender)\n",
    "print(\"Algorithm: {}, results: \\n{}\".format(recommender.__class__, results_string))"
   ]
  },
  {
   "source": [
    "### P3alphaRecommender"
   ],
   "cell_type": "markdown",
   "metadata": {}
  },
  {
   "cell_type": "code",
   "execution_count": null,
   "metadata": {},
   "outputs": [],
   "source": [
    "from GraphBased.P3alphaRecommender import P3alphaRecommender\n",
    "\n",
    "recommender = load_recommender(P3alphaRecommender, URM_train)\n",
    "\n",
    "set_recommender(dict, recommender)\n",
    "\n",
    "results, results_string = evaluator_test.evaluateRecommender(recommender)\n",
    "print(\"Algorithm: {}, results: \\n{}\".format(recommender.__class__, results_string))"
   ]
  },
  {
   "cell_type": "code",
   "execution_count": null,
   "metadata": {},
   "outputs": [],
   "source": [
    "from GraphBased.P3alphaRecommender import P3alphaRecommender\n",
    "\n",
    "recommender = P3alphaRecommender(URM_train)\n",
    "recommender.fit(topK=400, alpha=0.4, normalize_similarity=False, implicit=True)\n",
    "\n",
    "set_recommender(dict, recommender)\n",
    "\n",
    "results, results_string = evaluator_test.evaluateRecommender(recommender)\n",
    "print(\"Algorithm: {}, results: \\n{}\".format(recommender.__class__, results_string))"
   ]
  },
  {
   "source": [
    "### RP3betaRecommender"
   ],
   "cell_type": "markdown",
   "metadata": {}
  },
  {
   "cell_type": "code",
   "execution_count": null,
   "metadata": {},
   "outputs": [],
   "source": [
    "from GraphBased.RP3betaRecommender import RP3betaRecommender\n",
    "\n",
    "recommender = RP3betaRecommender(URM_train)\n",
    "recommender.fit(topK=906 , alpha=0.5, beta=0.08, normalize_similarity=False, implicit=True)\n",
    "\n",
    "set_recommender(dict, recommender)\n",
    "\n",
    "results, results_string = evaluator_test.evaluateRecommender(recommender)\n",
    "print(\"Algorithm: {}, results: \\n{}\".format(recommender.__class__, results_string))"
   ]
  },
  {
   "cell_type": "code",
   "execution_count": null,
   "metadata": {},
   "outputs": [],
   "source": [
    "from GraphBased.RP3betaRecommender import RP3betaRecommender\n",
    "\n",
    "recommender = load_recommender(RP3betaRecommender, URM_train)\n",
    "\n",
    "set_recommender(dict, recommender)\n",
    "\n",
    "results, results_string = evaluator_test.evaluateRecommender(recommender)\n",
    "print(\"Algorithm: {}, results: \\n{}\".format(recommender.__class__, results_string))"
   ]
  },
  {
   "source": [
    "### ItemKNNCBFRecommender"
   ],
   "cell_type": "markdown",
   "metadata": {}
  },
  {
   "cell_type": "code",
   "execution_count": null,
   "metadata": {},
   "outputs": [],
   "source": [
    "from KNN.ItemKNNCBFRecommender import ItemKNNCBFRecommender\n",
    "\n",
    "recommender = load_recommender(ItemKNNCBFRecommender, URM_train, ICM=ICM_all, metadata_args=\"_ICM_all_cosine\")\n",
    "\n",
    "set_recommender(dict, recommender)\n",
    "\n",
    "results, results_string = evaluator_test.evaluateRecommender(recommender)\n",
    "print(\"Algorithm: {}, results: \\n{}\".format(recommender.__class__, results_string))"
   ]
  },
  {
   "cell_type": "code",
   "execution_count": null,
   "metadata": {},
   "outputs": [],
   "source": [
    "from KNN.ItemKNNCBFRecommender import ItemKNNCBFRecommender\n",
    "\n",
    "recommender = ItemKNNCBFRecommender(URM_train, ICM_all)\n",
    "recommender.fit(topK=142, shrink=60, similarity=\"jaccard\", normalize=False)\n",
    "\n",
    "set_recommender(dict, recommender)\n",
    "\n",
    "results, results_string = evaluator_test.evaluateRecommender(recommender)\n",
    "print(\"Algorithm: {}, results: \\n{}\".format(recommender.__class__, results_string))"
   ]
  },
  {
   "source": [
    "### ItemKNNCFRecommender_ItemKNNCBFRecommender"
   ],
   "cell_type": "markdown",
   "metadata": {}
  },
  {
   "cell_type": "code",
   "execution_count": null,
   "metadata": {},
   "outputs": [],
   "source": [
    "from Hybrid.ItemKNNScoresHybridRecommender import ItemKNNScoresHybridRecommender\n",
    "\n",
    "RECOMMENDER_1 = dict[ItemKNNCFRecommender.RECOMMENDER_NAME][\"model\"]\n",
    "RECOMMENDER_2 = dict[ItemKNNCBFRecommender.RECOMMENDER_NAME][\"model\"]\n",
    "\n",
    "recommender = ItemKNNScoresHybridRecommender(URM_train, RECOMMENDER_1, RECOMMENDER_2)\n",
    "recommender.fit(alpha=0.4)\n",
    "\n",
    "set_recommender(dict, recommender, key=\"ItemKNNCFRecommender_ItemKNNCBFRecommender\")\n",
    "set_recommender(graph_dict, recommender, key=\"ItemKNNCFRecommender_ItemKNNCBFRecommender\")\n",
    "\n",
    "results, results_string = evaluator_test.evaluateRecommender(recommender)\n",
    "print(\"Algorithm: {}, results: \\n{}\".format(recommender.__class__, results_string))"
   ]
  },
  {
   "source": [
    "### P3alphaRecommender_ItemKNNCBFRecommender"
   ],
   "cell_type": "markdown",
   "metadata": {}
  },
  {
   "cell_type": "code",
   "execution_count": null,
   "metadata": {},
   "outputs": [],
   "source": [
    "from Hybrid.ItemKNNScoresHybridRecommender import ItemKNNScoresHybridRecommender\n",
    "\n",
    "RECOMMENDER_1 = dict[P3alphaRecommender.RECOMMENDER_NAME][\"model\"]\n",
    "RECOMMENDER_2 = dict[ItemKNNCBFRecommender.RECOMMENDER_NAME][\"model\"]\n",
    "\n",
    "recommender = ItemKNNScoresHybridRecommender(URM_train, RECOMMENDER_1, RECOMMENDER_2)\n",
    "recommender.fit(alpha=0.4)\n",
    "\n",
    "set_recommender(dict, recommender, key=\"P3alphaRecommender_ItemKNNCBFRecommender\")\n",
    "set_recommender(graph_dict, recommender, key=\"P3alphaRecommender_ItemKNNCBFRecommender\")\n",
    "\n",
    "results, results_string = evaluator_test.evaluateRecommender(recommender)\n",
    "print(\"Algorithm: {}, results: \\n{}\".format(recommender.__class__, results_string))"
   ]
  },
  {
   "source": [
    "### RP3betaRecommender_ItemKNNCBFRecommender"
   ],
   "cell_type": "markdown",
   "metadata": {}
  },
  {
   "cell_type": "code",
   "execution_count": null,
   "metadata": {},
   "outputs": [],
   "source": [
    "from Hybrid.ItemKNNScoresHybridRecommender import ItemKNNScoresHybridRecommender\n",
    "\n",
    "RECOMMENDER_1 = dict[RP3betaRecommender.RECOMMENDER_NAME][\"model\"]\n",
    "RECOMMENDER_2 = dict[ItemKNNCBFRecommender.RECOMMENDER_NAME][\"model\"]\n",
    "\n",
    "recommender = ItemKNNScoresHybridRecommender(URM_train, RECOMMENDER_1, RECOMMENDER_2)\n",
    "recommender.fit(alpha=0.6)\n",
    "\n",
    "set_recommender(dict, recommender, key=\"RP3betaRecommender_ItemKNNCBFRecommender\")\n",
    "set_recommender(graph_dict, recommender, key=\"RP3betaRecommender_ItemKNNCBFRecommender\")\n",
    "\n",
    "results, results_string = evaluator_test.evaluateRecommender(recommender)\n",
    "print(\"Algorithm: {}, results: \\n{}\".format(recommender.__class__, results_string))"
   ]
  },
  {
   "source": [
    "### P3alphaRecommender_ItemKNNCFRecommender_ItemKNNCBFRecommender"
   ],
   "cell_type": "markdown",
   "metadata": {}
  },
  {
   "cell_type": "code",
   "execution_count": null,
   "metadata": {},
   "outputs": [],
   "source": [
    "from Hybrid.ItemKNNScoresHybridRecommender import ItemKNNScoresHybridRecommender\n",
    "\n",
    "RECOMMENDER_1 = dict[P3alphaRecommender.RECOMMENDER_NAME][\"model\"]\n",
    "RECOMMENDER_2 = dict[ItemKNNCFRecommender.RECOMMENDER_NAME][\"model\"]\n",
    "RECOMMENDER_3 = dict[ItemKNNCBFRecommender.RECOMMENDER_NAME][\"model\"]\n",
    "\n",
    "temporary = ItemKNNScoresHybridRecommender(URM_train, RECOMMENDER_1, RECOMMENDER_2)\n",
    "temporary.fit(alpha=0.9)\n",
    "\n",
    "recommender = ItemKNNScoresHybridRecommender(URM_train, temporary, RECOMMENDER_3)\n",
    "recommender.fit(alpha=0.4)\n",
    "\n",
    "set_recommender(dict, recommender, key=\"P3alphaRecommender_ItemKNNCFRecommender_ItemKNNCBFRecommender\")\n",
    "set_recommender(graph_dict, recommender, key=\"P3alphaRecommender_ItemKNNCFRecommender_ItemKNNCBFRecommender\")\n",
    "\n",
    "results, results_string = evaluator_test.evaluateRecommender(recommender)\n",
    "print(\"Algorithm: {}, results: \\n{}\".format(recommender.__class__, results_string))"
   ]
  },
  {
   "source": [
    "### RP3betaRecommender_ItemKNNCFRecommender_ItemKNNCBFRecommender"
   ],
   "cell_type": "markdown",
   "metadata": {}
  },
  {
   "cell_type": "code",
   "execution_count": null,
   "metadata": {},
   "outputs": [],
   "source": [
    "from Hybrid.ItemKNNScoresHybridRecommender import ItemKNNScoresHybridRecommender\n",
    "\n",
    "RECOMMENDER_1 = dict[RP3betaRecommender.RECOMMENDER_NAME][\"model\"]\n",
    "RECOMMENDER_2 = dict[ItemKNNCFRecommender.RECOMMENDER_NAME][\"model\"]\n",
    "RECOMMENDER_3 = dict[ItemKNNCBFRecommender.RECOMMENDER_NAME][\"model\"]\n",
    "\n",
    "temporary = ItemKNNScoresHybridRecommender(URM_train, RECOMMENDER_1, RECOMMENDER_2)\n",
    "temporary.fit(alpha=0.9)\n",
    "\n",
    "recommender = ItemKNNScoresHybridRecommender(URM_train, temporary, RECOMMENDER_3)\n",
    "recommender.fit(alpha=0.4)\n",
    "\n",
    "set_recommender(dict, recommender, key=\"RP3betaRecommender_ItemKNNCFRecommender_ItemKNNCBFRecommender\")\n",
    "set_recommender(graph_dict, recommender, key=\"RP3betaRecommender_ItemKNNCFRecommender_ItemKNNCBFRecommender\")\n",
    "\n",
    "results, results_string = evaluator_test.evaluateRecommender(recommender)\n",
    "print(\"Algorithm: {}, results: \\n{}\".format(recommender.__class__, results_string))"
   ]
  },
  {
   "source": [
    "### ColdUsersTopPopRecommender"
   ],
   "cell_type": "markdown",
   "metadata": {}
  },
  {
   "cell_type": "code",
   "execution_count": null,
   "metadata": {
    "tags": []
   },
   "outputs": [],
   "source": [
    "from Hybrid.ColdUsersTopPopRecommender import ColdUsersTopPopRecommender\n",
    "\n",
    "for key in graph_dict.keys():\n",
    "    recommender = graph_dict[key][\"model\"]\n",
    "\n",
    "    temporary = ColdUsersTopPopRecommender(URM_train, recommender)\n",
    "    temporary.fit()\n",
    "\n",
    "    set_recommender(graph_dict, temporary, key=key)"
   ]
  },
  {
   "source": [
    "### UserWiseRecommender"
   ],
   "cell_type": "markdown",
   "metadata": {}
  },
  {
   "cell_type": "code",
   "execution_count": null,
   "metadata": {},
   "outputs": [],
   "source": [
    "import scipy.sparse as sps\n",
    "import numpy as np\n",
    "\n",
    "URM_train = sps.csr_matrix(URM_train)\n",
    "profile_length = np.ediff1d(URM_train.indptr)"
   ]
  },
  {
   "cell_type": "code",
   "execution_count": null,
   "metadata": {},
   "outputs": [],
   "source": [
    "n_groups = 5\n",
    "block_size = int(len(profile_length) / n_groups)"
   ]
  },
  {
   "cell_type": "code",
   "execution_count": null,
   "metadata": {},
   "outputs": [],
   "source": [
    "sorted_users = np.argsort(profile_length)"
   ]
  },
  {
   "cell_type": "code",
   "execution_count": null,
   "metadata": {
    "tags": []
   },
   "outputs": [],
   "source": [
    "cutoff = 10\n",
    "\n",
    "for key in graph_dict.keys():\n",
    "    graph_dict[key][\"MAP_per_group\"] = []\n",
    "\n",
    "for group_id in range(0, n_groups):\n",
    "    start_pos = group_id * block_size\n",
    "    end_pos = min((group_id + 1) * block_size, len(profile_length))\n",
    "    \n",
    "    users_in_group = sorted_users[start_pos:end_pos]\n",
    "    users_in_group_p_len = profile_length[users_in_group]\n",
    "    \n",
    "    print(\"Group {}, {}, average p.len {:.2f}, min {}, max {}\".format(\n",
    "        group_id, len(users_in_group), users_in_group_p_len.mean(), users_in_group_p_len.min(), users_in_group_p_len.max()))\n",
    "    \n",
    "    users_not_in_group_flag = np.isin(sorted_users, users_in_group, invert=True)\n",
    "    users_not_in_group = sorted_users[users_not_in_group_flag]\n",
    "    \n",
    "    evaluator_test = EvaluatorHoldout(URM_test, cutoff_list=[cutoff], ignore_users=users_not_in_group)\n",
    "\n",
    "    for key in graph_dict.keys():\n",
    "        recommender = graph_dict[key]\n",
    "        results, _ = evaluator_test.evaluateRecommender(recommender[\"model\"])\n",
    "\n",
    "        recommender[\"MAP_per_group\"].append(results[cutoff][\"MAP\"])"
   ]
  },
  {
   "cell_type": "code",
   "execution_count": null,
   "metadata": {},
   "outputs": [],
   "source": [
    "import matplotlib.pyplot as plt\n",
    "%matplotlib inline\n",
    "\n",
    "plt.figure(figsize=(15, 10))\n",
    "\n",
    "for key in graph_dict.keys():\n",
    "    recommender = graph_dict[key]\n",
    "    plt.plot(recommender[\"MAP_per_group\"], label=key)\n",
    "\n",
    "plt.ylabel('MAP')\n",
    "plt.xlabel('User Group')\n",
    "plt.legend()\n",
    "plt.show()"
   ]
  },
  {
   "cell_type": "code",
   "execution_count": null,
   "metadata": {},
   "outputs": [],
   "source": []
  }
 ],
 "metadata": {
  "kernelspec": {
   "display_name": "Python 3",
   "language": "python",
   "name": "python3"
  },
  "language_info": {
   "codemirror_mode": {
    "name": "ipython",
    "version": 3
   },
   "file_extension": ".py",
   "mimetype": "text/x-python",
   "name": "python",
   "nbconvert_exporter": "python",
   "pygments_lexer": "ipython3",
   "version": "3.8.3-final"
  }
 },
 "nbformat": 4,
 "nbformat_minor": 2
}